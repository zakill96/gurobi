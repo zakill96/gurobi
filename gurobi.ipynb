{
 "cells": [
  {
   "cell_type": "code",
   "execution_count": 10,
   "id": "d304debb",
   "metadata": {},
   "outputs": [],
   "source": [
    "from gurobipy import *"
   ]
  },
  {
   "cell_type": "code",
   "execution_count": 11,
   "id": "dc9f06f0",
   "metadata": {},
   "outputs": [],
   "source": [
    "all_number = [ i for i in range(1,51)]\n",
    "water_hating = [2,4,5,6,11,12,17,20,21,25,27,28,30,31,33,37,44,46]"
   ]
  },
  {
   "cell_type": "code",
   "execution_count": 12,
   "id": "5ca82b56",
   "metadata": {},
   "outputs": [
    {
     "data": {
      "text/plain": [
       "18"
      ]
     },
     "execution_count": 12,
     "metadata": {},
     "output_type": "execute_result"
    }
   ],
   "source": [
    "len(water_hating)"
   ]
  },
  {
   "cell_type": "code",
   "execution_count": 13,
   "id": "ce433a3b",
   "metadata": {
    "scrolled": true
   },
   "outputs": [],
   "source": [
    "all_connection = []\n",
    "total_meet = []\n",
    "for i in water_hating:\n",
    "    for j in water_hating:\n",
    "        if j > i + 1:\n",
    "            Meet_acids = i,j\n",
    "            total_meet.append(Meet_acids)\n",
    "            for n in range(i,j):\n",
    "                if i <= n <= j:\n",
    "                    Meet_acids = i,j,n\n",
    "                    all_connection.append(Meet_acids)"
   ]
  },
  {
   "cell_type": "code",
   "execution_count": 14,
   "id": "0edd4bd8",
   "metadata": {},
   "outputs": [],
   "source": [
    "folding_number = []\n",
    "normal_number = []\n",
    "meet_number = []\n",
    "for i in range(len(all_connection)):\n",
    "    if all_connection[i][2] == (all_connection[i][0] + all_connection[i][1]-1)/2:\n",
    "        folding_number.append(all_connection[i])\n",
    "    else:\n",
    "        normal_number.append(all_connection[i])\n",
    "for i,j,k in folding_number:\n",
    "    temp = i,j\n",
    "    meet_number.append(temp)"
   ]
  },
  {
   "cell_type": "code",
   "execution_count": 15,
   "id": "767ef85a",
   "metadata": {
    "scrolled": true
   },
   "outputs": [
    {
     "name": "stdout",
     "output_type": "stream",
     "text": [
      "Set parameter Username\n"
     ]
    },
    {
     "ename": "GurobiError",
     "evalue": "License expired 2022-06-14",
     "output_type": "error",
     "traceback": [
      "\u001b[1;31m---------------------------------------------------------------------------\u001b[0m",
      "\u001b[1;31mGurobiError\u001b[0m                               Traceback (most recent call last)",
      "\u001b[1;32m<ipython-input-15-0bd8816f37b5>\u001b[0m in \u001b[0;36m<module>\u001b[1;34m\u001b[0m\n\u001b[1;32m----> 1\u001b[1;33m \u001b[0mm\u001b[0m \u001b[1;33m=\u001b[0m \u001b[0mModel\u001b[0m\u001b[1;33m(\u001b[0m\u001b[1;34m'project'\u001b[0m\u001b[1;33m)\u001b[0m\u001b[1;33m\u001b[0m\u001b[1;33m\u001b[0m\u001b[0m\n\u001b[0m\u001b[0;32m      2\u001b[0m \u001b[0mmeeting\u001b[0m \u001b[1;33m=\u001b[0m \u001b[0mm\u001b[0m\u001b[1;33m.\u001b[0m\u001b[0maddVars\u001b[0m\u001b[1;33m(\u001b[0m\u001b[0mtotal_meet\u001b[0m\u001b[1;33m,\u001b[0m \u001b[0mvtype\u001b[0m\u001b[1;33m=\u001b[0m\u001b[0mGRB\u001b[0m\u001b[1;33m.\u001b[0m\u001b[0mBINARY\u001b[0m\u001b[1;33m,\u001b[0m \u001b[0mname\u001b[0m\u001b[1;33m=\u001b[0m\u001b[1;34m\"meeting\"\u001b[0m\u001b[1;33m)\u001b[0m\u001b[1;33m\u001b[0m\u001b[1;33m\u001b[0m\u001b[0m\n\u001b[0;32m      3\u001b[0m \u001b[0mfolding\u001b[0m \u001b[1;33m=\u001b[0m \u001b[0mm\u001b[0m\u001b[1;33m.\u001b[0m\u001b[0maddVars\u001b[0m\u001b[1;33m(\u001b[0m\u001b[0mall_number\u001b[0m\u001b[1;33m,\u001b[0m \u001b[0mvtype\u001b[0m\u001b[1;33m=\u001b[0m\u001b[0mGRB\u001b[0m\u001b[1;33m.\u001b[0m\u001b[0mBINARY\u001b[0m\u001b[1;33m,\u001b[0m \u001b[0mname\u001b[0m\u001b[1;33m=\u001b[0m\u001b[1;34m\"folding\"\u001b[0m\u001b[1;33m)\u001b[0m\u001b[1;33m\u001b[0m\u001b[1;33m\u001b[0m\u001b[0m\n",
      "\u001b[1;32msrc\\gurobipy\\model.pxi\u001b[0m in \u001b[0;36mgurobipy.Model.__init__\u001b[1;34m()\u001b[0m\n",
      "\u001b[1;32msrc\\gurobipy\\gurobi.pxi\u001b[0m in \u001b[0;36mgurobipy.gurobi._getdefaultenv\u001b[1;34m()\u001b[0m\n",
      "\u001b[1;32msrc\\gurobipy\\env.pxi\u001b[0m in \u001b[0;36mgurobipy.Env.__init__\u001b[1;34m()\u001b[0m\n",
      "\u001b[1;31mGurobiError\u001b[0m: License expired 2022-06-14"
     ]
    }
   ],
   "source": [
    "m = Model('project')\n",
    "meeting = m.addVars(total_meet, vtype=GRB.BINARY, name=\"meeting\")\n",
    "folding = m.addVars(all_number, vtype=GRB.BINARY, name=\"folding\")"
   ]
  },
  {
   "cell_type": "code",
   "execution_count": null,
   "id": "6b4ded3b",
   "metadata": {},
   "outputs": [],
   "source": [
    "m.setObjective(quicksum(meeting[i,j] for i,j in meet_number) , GRB.MAXIMIZE )"
   ]
  },
  {
   "cell_type": "code",
   "execution_count": 9,
   "id": "9f405261",
   "metadata": {},
   "outputs": [
    {
     "ename": "NameError",
     "evalue": "name 'm' is not defined",
     "output_type": "error",
     "traceback": [
      "\u001b[1;31m---------------------------------------------------------------------------\u001b[0m",
      "\u001b[1;31mNameError\u001b[0m                                 Traceback (most recent call last)",
      "\u001b[1;32m<ipython-input-9-256c8a990d78>\u001b[0m in \u001b[0;36m<module>\u001b[1;34m\u001b[0m\n\u001b[1;32m----> 1\u001b[1;33m \u001b[0mm\u001b[0m\u001b[1;33m.\u001b[0m\u001b[0maddConstrs\u001b[0m\u001b[1;33m(\u001b[0m \u001b[1;33m(\u001b[0m \u001b[0mmeeting\u001b[0m\u001b[1;33m[\u001b[0m\u001b[0mi\u001b[0m\u001b[1;33m,\u001b[0m\u001b[0mj\u001b[0m\u001b[1;33m]\u001b[0m \u001b[1;33m<=\u001b[0m \u001b[0mfolding\u001b[0m\u001b[1;33m[\u001b[0m\u001b[0mk\u001b[0m\u001b[1;33m]\u001b[0m  \u001b[1;32mfor\u001b[0m \u001b[0mi\u001b[0m\u001b[1;33m,\u001b[0m\u001b[0mj\u001b[0m\u001b[1;33m,\u001b[0m\u001b[0mk\u001b[0m \u001b[1;32min\u001b[0m \u001b[0mfolding_number\u001b[0m \u001b[1;33m)\u001b[0m\u001b[1;33m)\u001b[0m\u001b[1;33m\u001b[0m\u001b[1;33m\u001b[0m\u001b[0m\n\u001b[0m\u001b[0;32m      2\u001b[0m \u001b[0mm\u001b[0m\u001b[1;33m.\u001b[0m\u001b[0maddConstrs\u001b[0m\u001b[1;33m(\u001b[0m \u001b[1;33m(\u001b[0m\u001b[0mfolding\u001b[0m\u001b[1;33m[\u001b[0m\u001b[0mk\u001b[0m\u001b[1;33m]\u001b[0m \u001b[1;33m+\u001b[0m \u001b[0mmeeting\u001b[0m\u001b[1;33m[\u001b[0m\u001b[0mi\u001b[0m\u001b[1;33m,\u001b[0m\u001b[0mj\u001b[0m\u001b[1;33m]\u001b[0m \u001b[1;33m<=\u001b[0m \u001b[1;36m1\u001b[0m \u001b[1;32mfor\u001b[0m \u001b[0mi\u001b[0m\u001b[1;33m,\u001b[0m\u001b[0mj\u001b[0m\u001b[1;33m,\u001b[0m\u001b[0mk\u001b[0m \u001b[1;32min\u001b[0m \u001b[0mnormal_number\u001b[0m \u001b[1;33m)\u001b[0m\u001b[1;33m)\u001b[0m\u001b[1;33m\u001b[0m\u001b[1;33m\u001b[0m\u001b[0m\n",
      "\u001b[1;31mNameError\u001b[0m: name 'm' is not defined"
     ]
    }
   ],
   "source": [
    "m.addConstrs( ( meeting[i,j] <= folding[k]  for i,j,k in folding_number ))\n",
    "m.addConstrs( (folding[k] + meeting[i,j] <= 1 for i,j,k in normal_number ))"
   ]
  },
  {
   "cell_type": "code",
   "execution_count": null,
   "id": "79aaed67",
   "metadata": {},
   "outputs": [],
   "source": [
    "m.optimize()"
   ]
  },
  {
   "cell_type": "code",
   "execution_count": null,
   "id": "805e9fc8",
   "metadata": {},
   "outputs": [],
   "source": [
    "number = 0\n",
    "for i,j,n in folding_number:\n",
    "    if (meeting[i,j].x == 1): \n",
    "        number += 1 \n",
    "        print('{}:'.format(number), '가깝게 배치된 아미노산: ({} - {})'.format(i,j))\n",
    "        print('접히는 아미노산 위치: {}'.format(n))\n",
    "print()\n",
    "print('계산시간: {}'.format(m.Runtime))        \n",
    "print()\n",
    "print('따라서 수소성 아미노산의 최적해는?',m.objVal)"
   ]
  },
  {
   "cell_type": "code",
   "execution_count": null,
   "id": "32dc6088",
   "metadata": {},
   "outputs": [],
   "source": []
  },
  {
   "cell_type": "code",
   "execution_count": null,
   "id": "8c6aae68",
   "metadata": {},
   "outputs": [],
   "source": []
  }
 ],
 "metadata": {
  "kernelspec": {
   "display_name": "Python 3",
   "language": "python",
   "name": "python3"
  },
  "language_info": {
   "codemirror_mode": {
    "name": "ipython",
    "version": 3
   },
   "file_extension": ".py",
   "mimetype": "text/x-python",
   "name": "python",
   "nbconvert_exporter": "python",
   "pygments_lexer": "ipython3",
   "version": "3.8.8"
  }
 },
 "nbformat": 4,
 "nbformat_minor": 5
}
