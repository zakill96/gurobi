{
 "cells": [
  {
   "cell_type": "code",
   "execution_count": 1,
   "id": "b475f04c",
   "metadata": {},
   "outputs": [],
   "source": [
    "all_number = [ i for i in range(1,51)]\n",
    "water_hating = [2,4,5,6,11,12,17,20,21,25,27,28,30,31,33,37,44,46]"
   ]
  },
  {
   "cell_type": "code",
   "execution_count": 2,
   "id": "3087c1ab",
   "metadata": {},
   "outputs": [],
   "source": [
    "all_connection = []\n",
    "total_meet = []\n",
    "for i in water_hating:\n",
    "    for j in water_hating:\n",
    "        if j > i + 1:\n",
    "            Meet_acids = i,j\n",
    "            total_meet.append(Meet_acids)\n",
    "            for n in range(i,j):\n",
    "                if i <= n <= j:\n",
    "                    Meet_acids = i,j,n\n",
    "                    all_connection.append(Meet_acids)"
   ]
  },
  {
   "cell_type": "code",
   "execution_count": 3,
   "id": "392c79c1",
   "metadata": {},
   "outputs": [],
   "source": [
    "folding_number = []\n",
    "normal_number = []\n",
    "meet_number = []\n",
    "for i in range(len(all_connection)):\n",
    "    if all_connection[i][2] == (all_connection[i][0] + all_connection[i][1]-1)/2:\n",
    "        folding_number.append(all_connection[i])"
   ]
  },
  {
   "cell_type": "code",
   "execution_count": 4,
   "id": "24d078f2",
   "metadata": {},
   "outputs": [],
   "source": [
    "final = []\n",
    "final.append(folding_number.pop(0))\n",
    "for i in range(len(folding_number)):\n",
    "    temp = folding_number.pop(0)\n",
    "    if temp[0] > final[-1][0]:\n",
    "        final.append(temp)"
   ]
  },
  {
   "cell_type": "code",
   "execution_count": 5,
   "id": "ad832b35",
   "metadata": {},
   "outputs": [],
   "source": [
    "i = 0\n",
    "while i < len(final)-1:\n",
    "    if final[i][2] > final[i+1][2]:\n",
    "        final.pop(i)\n",
    "    i +=1   "
   ]
  },
  {
   "cell_type": "code",
   "execution_count": 6,
   "id": "1f645789",
   "metadata": {},
   "outputs": [],
   "source": [
    "i = 0\n",
    "while i < len(final)-1:\n",
    "    if final[i][2] + 1 == final[i+1][0]:\n",
    "        final.pop(i+1)\n",
    "    i += 1"
   ]
  },
  {
   "cell_type": "code",
   "execution_count": 7,
   "id": "4db7fc3b",
   "metadata": {},
   "outputs": [],
   "source": [
    "i = 0\n",
    "while i < len(final)-2:\n",
    "    if final[i][0]<=final[i+1][2]<= final[i][1] and final[i+1][1] > final[i][1]:\n",
    "        final.pop(i+1)\n",
    "    i += 1"
   ]
  },
  {
   "cell_type": "code",
   "execution_count": 8,
   "id": "c956f3fa",
   "metadata": {},
   "outputs": [],
   "source": [
    "i = 0\n",
    "for i in range(2):\n",
    "    while i < len(final)-1:\n",
    "        if final[i][1] == final[i+1][1]:\n",
    "            final.pop(i+1)\n",
    "        i += 1"
   ]
  },
  {
   "cell_type": "code",
   "execution_count": 9,
   "id": "4b598113",
   "metadata": {},
   "outputs": [
    {
     "name": "stdout",
     "output_type": "stream",
     "text": [
      "1: 가깝게 배치된 아미노산: (2 - 5)\n",
      "접히는 아미노산 위치: 3\n",
      "2: 가깝게 배치된 아미노산: (5 - 12)\n",
      "접히는 아미노산 위치: 8\n",
      "3: 가깝게 배치된 아미노산: (6 - 11)\n",
      "접히는 아미노산 위치: 8\n",
      "4: 가깝게 배치된 아미노산: (12 - 17)\n",
      "접히는 아미노산 위치: 14\n",
      "5: 가깝게 배치된 아미노산: (17 - 20)\n",
      "접히는 아미노산 위치: 18\n",
      "6: 가깝게 배치된 아미노산: (20 - 25)\n",
      "접히는 아미노산 위치: 22\n",
      "7: 가깝게 배치된 아미노산: (27 - 30)\n",
      "접히는 아미노산 위치: 28\n",
      "8: 가깝게 배치된 아미노산: (31 - 44)\n",
      "접히는 아미노산 위치: 37\n",
      "\n",
      "따라서 수소성 아미노산의 최적해는? 8\n"
     ]
    }
   ],
   "source": [
    "number = 0\n",
    "for i in range(len(final)):\n",
    "    number += 1\n",
    "    print('{}:'.format(number), '가깝게 배치된 아미노산: ({} - {})'.format(final[i][0],final[i][1]))\n",
    "    print('접히는 아미노산 위치: {}'.format(final[i][2]))\n",
    "print()\n",
    "print('따라서 수소성 아미노산의 최적해는?',number)"
   ]
  },
  {
   "cell_type": "code",
   "execution_count": null,
   "id": "ad66608d",
   "metadata": {},
   "outputs": [],
   "source": []
  }
 ],
 "metadata": {
  "kernelspec": {
   "display_name": "Python 3",
   "language": "python",
   "name": "python3"
  },
  "language_info": {
   "codemirror_mode": {
    "name": "ipython",
    "version": 3
   },
   "file_extension": ".py",
   "mimetype": "text/x-python",
   "name": "python",
   "nbconvert_exporter": "python",
   "pygments_lexer": "ipython3",
   "version": "3.8.8"
  }
 },
 "nbformat": 4,
 "nbformat_minor": 5
}
